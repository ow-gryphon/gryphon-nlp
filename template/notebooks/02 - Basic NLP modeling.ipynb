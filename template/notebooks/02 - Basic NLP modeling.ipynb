{
 "cells": [
  {
   "cell_type": "markdown",
   "id": "e241a8cc-0982-4f8b-ac25-a5314f195ccc",
   "metadata": {},
   "source": [
    "<div class=\"alert alert-danger\" role=\"alert\">\n",
    "    <span style=\"font-size:20px\">&#9888;</span> <span style=\"font-size:16px\">This is a read-only notebook! If you want to make and save changes, save a copy by clicking on <b>File</b> &#8594; <b>Save a copy</b>. If this is already a copy, you can delete this cell.</span>\n",
    "</div>"
   ]
  },
  {
   "cell_type": "markdown",
   "id": "1442858f-c800-4517-80a2-55dd3995aada",
   "metadata": {},
   "source": [
    "# Basic NLP modeling\n",
    "\n",
    "\n",
    "In this notebook we introduce the more common language models used for machine learning.\n",
    "This notebook is the sequence of the [\"01- Basic NLP preprocessing.ipynb\"](http://localhost:8888/lab/tree/template/notebooks/02%20-%20Basic%20NLP%20modeling.ipynb) notebook. Run the previous notebook to generate the necessary data at the correct folder."
   ]
  },
  {
   "cell_type": "code",
   "execution_count": 1,
   "id": "81a234bf-61f2-4050-a55d-f9218c1198f8",
   "metadata": {},
   "outputs": [],
   "source": [
    "# Add path of the folder 'resources' to the path from which we can import modules  \n",
    "import sys\n",
    "sys.path.append('../utilities')"
   ]
  },
  {
   "cell_type": "code",
   "execution_count": 2,
   "id": "4334008e-0dbf-4369-871d-a11d9b20eab5",
   "metadata": {},
   "outputs": [],
   "source": [
    "import pandas as pd\n",
    "from nlp import BagOfWords, WordEmbedding\n",
    "\n",
    "pd.set_option('display.max_colwidth', 500)"
   ]
  },
  {
   "cell_type": "code",
   "execution_count": 4,
   "id": "0bf181b5-6795-4abb-9132-174884d03fd9",
   "metadata": {},
   "outputs": [
    {
     "data": {
      "text/html": [
       "<div>\n",
       "<style scoped>\n",
       "    .dataframe tbody tr th:only-of-type {\n",
       "        vertical-align: middle;\n",
       "    }\n",
       "\n",
       "    .dataframe tbody tr th {\n",
       "        vertical-align: top;\n",
       "    }\n",
       "\n",
       "    .dataframe thead th {\n",
       "        text-align: right;\n",
       "    }\n",
       "</style>\n",
       "<table border=\"1\" class=\"dataframe\">\n",
       "  <thead>\n",
       "    <tr style=\"text-align: right;\">\n",
       "      <th></th>\n",
       "      <th>Row</th>\n",
       "      <th>ConsumerComplaintNarrative</th>\n",
       "    </tr>\n",
       "  </thead>\n",
       "  <tbody>\n",
       "    <tr>\n",
       "      <th>0</th>\n",
       "      <td>0</td>\n",
       "      <td>sever item credit report mine notic recent appli credit card wasnt approv prompt check credit report item list mine need remov usddeptof</td>\n",
       "    </tr>\n",
       "    <tr>\n",
       "      <th>1</th>\n",
       "      <td>1</td>\n",
       "      <td>call sever occa request student loan updat reflect correct payment equifax continu reflect inaccur report make incorrect payment histori reflect correct sure ontim payment remov drop payment histori current contact origin creditor told late payment reflect account havent late year howev equifax continu reflect inform correct destroy charact limit abil obtain credit</td>\n",
       "    </tr>\n",
       "    <tr>\n",
       "      <th>2</th>\n",
       "      <td>2</td>\n",
       "      <td>follow account open close mine ident compromi affect emot credit file well im demand immedi remov follow unauthor unknown account</td>\n",
       "    </tr>\n",
       "    <tr>\n",
       "      <th>3</th>\n",
       "      <td>3</td>\n",
       "      <td>person problem affect affect everi consum countri fight make sever phone call get free annual credit report even  deni credit agenc direct total pay site scam direct total peopl low incom senior peopl high incom mean incom reli call credit compani also realiz complaint toss never address die</td>\n",
       "    </tr>\n",
       "    <tr>\n",
       "      <th>4</th>\n",
       "      <td>4</td>\n",
       "      <td>transunion report fraudul account name fraudul credit account fraudul credit account fraudul credit account fraudul credit account fraudul credit account fraudul credit account didnt benefit appli author account</td>\n",
       "    </tr>\n",
       "    <tr>\n",
       "      <th>...</th>\n",
       "      <td>...</td>\n",
       "      <td>...</td>\n",
       "    </tr>\n",
       "    <tr>\n",
       "      <th>9995</th>\n",
       "      <td>9995</td>\n",
       "      <td>predatori lend unauthor credit inquiri friday receiv unsolicit call banker said would like review account see refin offer avail author banker run credit inquiri call end receiv notic credit monitor servic three credit bureau receiv hard credit inquiri contact make sure knew author credit inquiri refu remov phone number also call list also contact unsolicit text without consent continu falsifi stori dismiss neg impact credit report unabl provid evid consent credit inquiri</td>\n",
       "    </tr>\n",
       "    <tr>\n",
       "      <th>9996</th>\n",
       "      <td>9996</td>\n",
       "      <td>experian report incorrectli collectionchargeoff amount well report past due balanc partial account number plea see page attach credit report account need report balanc past due remov credit report fal report collectionchargeoff seriou harm credit score contact bureau remov howev success</td>\n",
       "    </tr>\n",
       "    <tr>\n",
       "      <th>9997</th>\n",
       "      <td>9997</td>\n",
       "      <td>may concern write disput fraudul charg account amount victim ident theft make author charg request charg remov financ charg relat fraudul amount credit well receiv accur statement request made pursuant fair credit bill act amend truth lend act usc b cfr see also cfr b write request method verif disput initi subsequ respon receiv enclo letter accord fcra section request inform review complet accuraci appropri lieu send inform reopen disput ensur proper investig perform would appreci time resp...</td>\n",
       "    </tr>\n",
       "    <tr>\n",
       "      <th>9998</th>\n",
       "      <td>9998</td>\n",
       "      <td>follow inquiri fraudul im demand remov</td>\n",
       "    </tr>\n",
       "    <tr>\n",
       "      <th>9999</th>\n",
       "      <td>9999</td>\n",
       "      <td>review copi credit report found two inaccur account place credit without knowledgeth account cau great deed stress credit credit damag due ask plea reinvestig account remov credit plea keep mind account belong</td>\n",
       "    </tr>\n",
       "  </tbody>\n",
       "</table>\n",
       "<p>10000 rows × 2 columns</p>\n",
       "</div>"
      ],
      "text/plain": [
       "       Row  \\\n",
       "0        0   \n",
       "1        1   \n",
       "2        2   \n",
       "3        3   \n",
       "4        4   \n",
       "...    ...   \n",
       "9995  9995   \n",
       "9996  9996   \n",
       "9997  9997   \n",
       "9998  9998   \n",
       "9999  9999   \n",
       "\n",
       "                                                                                                                                                                                                                                                                                                                                                                                                                                                                                               ConsumerComplaintNarrative  \n",
       "0                                                                                                                                                                                                                                                                                                                                                                                sever item credit report mine notic recent appli credit card wasnt approv prompt check credit report item list mine need remov usddeptof  \n",
       "1                                                                                                                                         call sever occa request student loan updat reflect correct payment equifax continu reflect inaccur report make incorrect payment histori reflect correct sure ontim payment remov drop payment histori current contact origin creditor told late payment reflect account havent late year howev equifax continu reflect inform correct destroy charact limit abil obtain credit  \n",
       "2                                                                                                                                                                                                                                                                                                                                                                                       follow account open close mine ident compromi affect emot credit file well im demand immedi remov follow unauthor unknown account  \n",
       "3                                                                                                                                                                                                                    person problem affect affect everi consum countri fight make sever phone call get free annual credit report even  deni credit agenc direct total pay site scam direct total peopl low incom senior peopl high incom mean incom reli call credit compani also realiz complaint toss never address die  \n",
       "4                                                                                                                                                                                                                                                                                                     transunion report fraudul account name fraudul credit account fraudul credit account fraudul credit account fraudul credit account fraudul credit account fraudul credit account didnt benefit appli author account  \n",
       "...                                                                                                                                                                                                                                                                                                                                                                                                                                                                                                                   ...  \n",
       "9995                          predatori lend unauthor credit inquiri friday receiv unsolicit call banker said would like review account see refin offer avail author banker run credit inquiri call end receiv notic credit monitor servic three credit bureau receiv hard credit inquiri contact make sure knew author credit inquiri refu remov phone number also call list also contact unsolicit text without consent continu falsifi stori dismiss neg impact credit report unabl provid evid consent credit inquiri  \n",
       "9996                                                                                                                                                                                                                      experian report incorrectli collectionchargeoff amount well report past due balanc partial account number plea see page attach credit report account need report balanc past due remov credit report fal report collectionchargeoff seriou harm credit score contact bureau remov howev success  \n",
       "9997  may concern write disput fraudul charg account amount victim ident theft make author charg request charg remov financ charg relat fraudul amount credit well receiv accur statement request made pursuant fair credit bill act amend truth lend act usc b cfr see also cfr b write request method verif disput initi subsequ respon receiv enclo letter accord fcra section request inform review complet accuraci appropri lieu send inform reopen disput ensur proper investig perform would appreci time resp...  \n",
       "9998                                                                                                                                                                                                                                                                                                                                                                                                                                                                               follow inquiri fraudul im demand remov  \n",
       "9999                                                                                                                                                                                                                                                                                                    review copi credit report found two inaccur account place credit without knowledgeth account cau great deed stress credit credit damag due ask plea reinvestig account remov credit plea keep mind account belong  \n",
       "\n",
       "[10000 rows x 2 columns]"
      ]
     },
     "execution_count": 4,
     "metadata": {},
     "output_type": "execute_result"
    }
   ],
   "source": [
    "# Dataset generated by the \"01- Basic NLP preprocessing.ipynb\" notebook. Run the previous notebook to generate the data.\n",
    "\n",
    "dataset = pd.read_csv('sample_output/pre_processed_sentences.csv')\n",
    "text_field = \"ConsumerComplaintNarrative\"\n",
    "\n",
    "dataset"
   ]
  },
  {
   "cell_type": "markdown",
   "id": "f6b56865-3080-4e31-8071-a4524ff379f8",
   "metadata": {},
   "source": [
    "## Regularized bag of words\n",
    "\n",
    "**Bag of words** is a simplifyed model of a text that consists in calculating the word frequencies in the corpus, disregarding grammar and word order [[1]](https://en.wikipedia.org/wiki/Bag-of-words_model). \n",
    "\n",
    "Additionally we can normalize this bag of words by their inverse frequency in the document (**TFIDF**) [[2]](https://scikit-learn.org/stable/modules/feature_extraction.html#tfidf-term-weighting) in this way we can give a more realistic way to some words that are very frequent in the idiom but doesn't cary much meaning (like articles or other words that were not removed as stop words)."
   ]
  },
  {
   "cell_type": "markdown",
   "id": "89bd3861-a29e-4846-b0ed-d68fa5c0b51f",
   "metadata": {},
   "source": [
    "### Regular word counts"
   ]
  },
  {
   "cell_type": "code",
   "execution_count": 4,
   "id": "87d1147b-6a94-42fe-bb43-cbe87c8aae65",
   "metadata": {},
   "outputs": [
    {
     "data": {
      "text/plain": [
       "<10000x8475 sparse matrix of type '<class 'numpy.int64'>'\n",
       "\twith 414886 stored elements in Compressed Sparse Row format>"
      ]
     },
     "execution_count": 4,
     "metadata": {},
     "output_type": "execute_result"
    }
   ],
   "source": [
    "bow_model, word_counts = BagOfWords.fit_regular_bow(dataset[text_field])\n",
    "word_counts"
   ]
  },
  {
   "cell_type": "markdown",
   "id": "0e07f196-4fe1-4bd0-8bb8-3f5db0c852ac",
   "metadata": {},
   "source": [
    "### TFIDF word counts"
   ]
  },
  {
   "cell_type": "code",
   "execution_count": 5,
   "id": "dcb383d0-02ef-421d-a3ab-7e10bb7e0cca",
   "metadata": {},
   "outputs": [
    {
     "data": {
      "text/plain": [
       "(TfidfTransformer(norm=None),\n",
       " <10000x8475 sparse matrix of type '<class 'numpy.float64'>'\n",
       " \twith 414886 stored elements in Compressed Sparse Row format>)"
      ]
     },
     "execution_count": 5,
     "metadata": {},
     "output_type": "execute_result"
    }
   ],
   "source": [
    "tfidf_word_counts = BagOfWords.fit_tfidf_bow(dataset[text_field])\n",
    "tfidf_word_counts"
   ]
  },
  {
   "cell_type": "markdown",
   "id": "206b94b0-b9e0-40be-813d-4e9135b81133",
   "metadata": {},
   "source": [
    "### Normalized word counts"
   ]
  },
  {
   "cell_type": "code",
   "execution_count": 6,
   "id": "e9303147-e47b-40a6-b5e9-163c6c483cf4",
   "metadata": {},
   "outputs": [
    {
     "data": {
      "text/plain": [
       "<10000x8475 sparse matrix of type '<class 'numpy.float64'>'\n",
       "\twith 414886 stored elements in Compressed Sparse Column format>"
      ]
     },
     "execution_count": 6,
     "metadata": {},
     "output_type": "execute_result"
    }
   ],
   "source": [
    "norm_word_counts = BagOfWords.fit_normalized_bow(dataset[text_field])\n",
    "norm_word_counts"
   ]
  },
  {
   "cell_type": "code",
   "execution_count": 7,
   "id": "ee834348-62cd-4d97-bb25-b01bfc326f2e",
   "metadata": {},
   "outputs": [
    {
     "data": {
      "text/plain": [
       "10000"
      ]
     },
     "execution_count": 7,
     "metadata": {},
     "output_type": "execute_result"
    }
   ],
   "source": [
    "len(dataset[text_field])"
   ]
  },
  {
   "cell_type": "markdown",
   "id": "10ce3d7a-5927-4729-9b7b-07978bc08559",
   "metadata": {},
   "source": [
    "The resulting matrices are of the dimensions \\<number of rows from dataset\\> x \\<number of words in the corpus\\>, in our case 10000x8475.\n",
    "\n",
    "This matrices can be fed to machine learning algorithms in order to model text properties, such as general sentiment present in a text or a basic identification of whether a text contains a complaint or not.\n",
    "\n"
   ]
  },
  {
   "cell_type": "markdown",
   "id": "d1f7f5b3-efb3-4c54-89d8-cae1d5909fcd",
   "metadata": {},
   "source": [
    "## Word embeddings\n",
    "\n",
    "Another way to extract features from a text corpus is by vectorizing it by using **word embeddings** [[3]](https://machinelearningmastery.com/what-are-word-embeddings/). This is a more robust representation of text data because it considers the semantics of each word. \n",
    "\n",
    "In this approach each word is transformed into a N-dimensional array. The dimensions of this array are related to semantics about the object, therefore words with similar meaning will be next to each other in this N-dimensional vectorial space. "
   ]
  },
  {
   "cell_type": "code",
   "execution_count": 1,
   "id": "a0c2e364-dd82-432b-b1c4-7200404b57da",
   "metadata": {},
   "outputs": [
    {
     "data": {
      "text/html": [
       "<div>\n",
       "<style scoped>\n",
       "    .dataframe tbody tr th:only-of-type {\n",
       "        vertical-align: middle;\n",
       "    }\n",
       "\n",
       "    .dataframe tbody tr th {\n",
       "        vertical-align: top;\n",
       "    }\n",
       "\n",
       "    .dataframe thead th {\n",
       "        text-align: right;\n",
       "    }\n",
       "</style>\n",
       "<table border=\"1\" class=\"dataframe\">\n",
       "  <thead>\n",
       "    <tr style=\"text-align: right;\">\n",
       "      <th></th>\n",
       "      <th>Row</th>\n",
       "      <th>ConsumerComplaintNarrative</th>\n",
       "    </tr>\n",
       "  </thead>\n",
       "  <tbody>\n",
       "    <tr>\n",
       "      <th>0</th>\n",
       "      <td>0</td>\n",
       "      <td>sever item credit report mine notic recent appli credit card wasnt approv prompt check credit report item list mine need remov usddeptof</td>\n",
       "    </tr>\n",
       "    <tr>\n",
       "      <th>1</th>\n",
       "      <td>1</td>\n",
       "      <td>call sever occa request student loan updat reflect correct payment equifax continu reflect inaccur report make incorrect payment histori reflect correct sure ontim payment remov drop payment histori current contact origin creditor told late payment reflect account havent late year howev equifax continu reflect inform correct destroy charact limit abil obtain credit</td>\n",
       "    </tr>\n",
       "    <tr>\n",
       "      <th>2</th>\n",
       "      <td>2</td>\n",
       "      <td>follow account open close mine ident compromi affect emot credit file well im demand immedi remov follow unauthor unknown account</td>\n",
       "    </tr>\n",
       "    <tr>\n",
       "      <th>3</th>\n",
       "      <td>3</td>\n",
       "      <td>person problem affect affect everi consum countri fight make sever phone call get free annual credit report even  deni credit agenc direct total pay site scam direct total peopl low incom senior peopl high incom mean incom reli call credit compani also realiz complaint toss never address die</td>\n",
       "    </tr>\n",
       "    <tr>\n",
       "      <th>4</th>\n",
       "      <td>4</td>\n",
       "      <td>transunion report fraudul account name fraudul credit account fraudul credit account fraudul credit account fraudul credit account fraudul credit account fraudul credit account didnt benefit appli author account</td>\n",
       "    </tr>\n",
       "    <tr>\n",
       "      <th>...</th>\n",
       "      <td>...</td>\n",
       "      <td>...</td>\n",
       "    </tr>\n",
       "    <tr>\n",
       "      <th>9995</th>\n",
       "      <td>9995</td>\n",
       "      <td>predatori lend unauthor credit inquiri friday receiv unsolicit call banker said would like review account see refin offer avail author banker run credit inquiri call end receiv notic credit monitor servic three credit bureau receiv hard credit inquiri contact make sure knew author credit inquiri refu remov phone number also call list also contact unsolicit text without consent continu falsifi stori dismiss neg impact credit report unabl provid evid consent credit inquiri</td>\n",
       "    </tr>\n",
       "    <tr>\n",
       "      <th>9996</th>\n",
       "      <td>9996</td>\n",
       "      <td>experian report incorrectli collectionchargeoff amount well report past due balanc partial account number plea see page attach credit report account need report balanc past due remov credit report fal report collectionchargeoff seriou harm credit score contact bureau remov howev success</td>\n",
       "    </tr>\n",
       "    <tr>\n",
       "      <th>9997</th>\n",
       "      <td>9997</td>\n",
       "      <td>may concern write disput fraudul charg account amount victim ident theft make author charg request charg remov financ charg relat fraudul amount credit well receiv accur statement request made pursuant fair credit bill act amend truth lend act usc b cfr see also cfr b write request method verif disput initi subsequ respon receiv enclo letter accord fcra section request inform review complet accuraci appropri lieu send inform reopen disput ensur proper investig perform would appreci time resp...</td>\n",
       "    </tr>\n",
       "    <tr>\n",
       "      <th>9998</th>\n",
       "      <td>9998</td>\n",
       "      <td>follow inquiri fraudul im demand remov</td>\n",
       "    </tr>\n",
       "    <tr>\n",
       "      <th>9999</th>\n",
       "      <td>9999</td>\n",
       "      <td>review copi credit report found two inaccur account place credit without knowledgeth account cau great deed stress credit credit damag due ask plea reinvestig account remov credit plea keep mind account belong</td>\n",
       "    </tr>\n",
       "  </tbody>\n",
       "</table>\n",
       "<p>10000 rows × 2 columns</p>\n",
       "</div>"
      ],
      "text/plain": [
       "       Row  \\\n",
       "0        0   \n",
       "1        1   \n",
       "2        2   \n",
       "3        3   \n",
       "4        4   \n",
       "...    ...   \n",
       "9995  9995   \n",
       "9996  9996   \n",
       "9997  9997   \n",
       "9998  9998   \n",
       "9999  9999   \n",
       "\n",
       "                                                                                                                                                                                                                                                                                                                                                                                                                                                                                               ConsumerComplaintNarrative  \n",
       "0                                                                                                                                                                                                                                                                                                                                                                                sever item credit report mine notic recent appli credit card wasnt approv prompt check credit report item list mine need remov usddeptof  \n",
       "1                                                                                                                                         call sever occa request student loan updat reflect correct payment equifax continu reflect inaccur report make incorrect payment histori reflect correct sure ontim payment remov drop payment histori current contact origin creditor told late payment reflect account havent late year howev equifax continu reflect inform correct destroy charact limit abil obtain credit  \n",
       "2                                                                                                                                                                                                                                                                                                                                                                                       follow account open close mine ident compromi affect emot credit file well im demand immedi remov follow unauthor unknown account  \n",
       "3                                                                                                                                                                                                                    person problem affect affect everi consum countri fight make sever phone call get free annual credit report even  deni credit agenc direct total pay site scam direct total peopl low incom senior peopl high incom mean incom reli call credit compani also realiz complaint toss never address die  \n",
       "4                                                                                                                                                                                                                                                                                                     transunion report fraudul account name fraudul credit account fraudul credit account fraudul credit account fraudul credit account fraudul credit account fraudul credit account didnt benefit appli author account  \n",
       "...                                                                                                                                                                                                                                                                                                                                                                                                                                                                                                                   ...  \n",
       "9995                          predatori lend unauthor credit inquiri friday receiv unsolicit call banker said would like review account see refin offer avail author banker run credit inquiri call end receiv notic credit monitor servic three credit bureau receiv hard credit inquiri contact make sure knew author credit inquiri refu remov phone number also call list also contact unsolicit text without consent continu falsifi stori dismiss neg impact credit report unabl provid evid consent credit inquiri  \n",
       "9996                                                                                                                                                                                                                      experian report incorrectli collectionchargeoff amount well report past due balanc partial account number plea see page attach credit report account need report balanc past due remov credit report fal report collectionchargeoff seriou harm credit score contact bureau remov howev success  \n",
       "9997  may concern write disput fraudul charg account amount victim ident theft make author charg request charg remov financ charg relat fraudul amount credit well receiv accur statement request made pursuant fair credit bill act amend truth lend act usc b cfr see also cfr b write request method verif disput initi subsequ respon receiv enclo letter accord fcra section request inform review complet accuraci appropri lieu send inform reopen disput ensur proper investig perform would appreci time resp...  \n",
       "9998                                                                                                                                                                                                                                                                                                                                                                                                                                                                               follow inquiri fraudul im demand remov  \n",
       "9999                                                                                                                                                                                                                                                                                                    review copi credit report found two inaccur account place credit without knowledgeth account cau great deed stress credit credit damag due ask plea reinvestig account remov credit plea keep mind account belong  \n",
       "\n",
       "[10000 rows x 2 columns]"
      ]
     },
     "execution_count": 1,
     "metadata": {},
     "output_type": "execute_result"
    }
   ],
   "source": [
    "# Add path of the folder 'resources' to the path from which we can import modules  \n",
    "import sys\n",
    "sys.path.append('../utilities')\n",
    "\n",
    "import pandas as pd\n",
    "from nlp import BagOfWords, WordEmbedding\n",
    "\n",
    "pd.set_option('display.max_colwidth', 500)\n",
    "dataset = pd.read_csv('sample_output/pre_processed_sentences.csv')\n",
    "text_field = \"ConsumerComplaintNarrative\"\n",
    "\n",
    "dataset"
   ]
  },
  {
   "cell_type": "code",
   "execution_count": 2,
   "id": "772dae89-fa5a-4079-a00d-76c7b63229e2",
   "metadata": {},
   "outputs": [
    {
     "name": "stdout",
     "output_type": "stream",
     "text": [
      "Loading embedding model to memory...\n",
      "Done!\n"
     ]
    }
   ],
   "source": [
    "embedding = WordEmbedding()"
   ]
  },
  {
   "cell_type": "code",
   "execution_count": 3,
   "id": "ae5f3a15-c036-4007-84f5-30dd38dd68bf",
   "metadata": {
    "tags": []
   },
   "outputs": [
    {
     "name": "stdout",
     "output_type": "stream",
     "text": [
      "No vector in \"disput disput\"\n",
      "No vector in \"fraudul inquiri\"\n",
      "No vector in \"disput disput disput disput disput disput disput disput disput disput disput disput disput disput disput disput disput disput disput\"\n",
      "No vector in \"unauthor inquiri transunion\"\n",
      "No vector in \"inquir\"\n",
      "No vector in \"unauthor inquiri\"\n",
      "No vector in \"inquiri knowledg\"\n"
     ]
    },
    {
     "data": {
      "text/plain": [
       "array([[-0.07753553,  0.02278539, -0.00518638, ...,  0.06176115,\n",
       "        -0.00800042, -0.02298897],\n",
       "       [-0.06949715,  0.02393772,  0.01911396, ..., -0.00575323,\n",
       "         0.01801201, -0.0687839 ],\n",
       "       [-0.02784819,  0.00189209,  0.05388686, ..., -0.03203269,\n",
       "        -0.022662  , -0.03652842],\n",
       "       ...,\n",
       "       [-0.06088218,  0.04120695,  0.02956175, ..., -0.03692451,\n",
       "        -0.02326574, -0.00577193],\n",
       "       [-0.05966187,  0.0357666 ,  0.02453613, ..., -0.06591797,\n",
       "         0.10949707, -0.02438354],\n",
       "       [-0.00722395,  0.06133597,  0.00013188, ..., -0.01401084,\n",
       "        -0.04476493, -0.04678345]], dtype=float32)"
      ]
     },
     "execution_count": 3,
     "metadata": {},
     "output_type": "execute_result"
    }
   ],
   "source": [
    "result = embedding.transform(dataset[text_field])\n",
    "result"
   ]
  },
  {
   "cell_type": "code",
   "execution_count": 4,
   "id": "92bee82c-6eee-401a-8865-0246a4fdbe2f",
   "metadata": {},
   "outputs": [
    {
     "data": {
      "text/plain": [
       "(10000, 300)"
      ]
     },
     "execution_count": 4,
     "metadata": {},
     "output_type": "execute_result"
    }
   ],
   "source": [
    "result.shape"
   ]
  },
  {
   "cell_type": "markdown",
   "id": "bdd5fe03-8eca-44eb-992c-421118c74ebb",
   "metadata": {},
   "source": [
    "The returned matrix of the `embedding.transform` function is in the correct format for being used in machine learning algorithms from the scikit-learn library."
   ]
  },
  {
   "cell_type": "markdown",
   "id": "b4ff8ef5-4e7b-4a9e-abc2-c8ca4258f714",
   "metadata": {},
   "source": [
    "## Conclusion\n",
    "\n",
    "The methods shown above can be used to feed machine learning algorithms and be used for a diverse set of problems. "
   ]
  }
 ],
 "metadata": {
  "kernelspec": {
   "display_name": "Python 3",
   "language": "python",
   "name": "python3"
  },
  "language_info": {
   "codemirror_mode": {
    "name": "ipython",
    "version": 3
   },
   "file_extension": ".py",
   "mimetype": "text/x-python",
   "name": "python",
   "nbconvert_exporter": "python",
   "pygments_lexer": "ipython3",
   "version": "3.8.8"
  }
 },
 "nbformat": 4,
 "nbformat_minor": 5
}
