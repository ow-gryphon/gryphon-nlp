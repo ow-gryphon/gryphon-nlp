{
 "cells": [
  {
   "cell_type": "markdown",
   "id": "a422ce79-a43f-4f39-9c7a-d4837d08bc8d",
   "metadata": {},
   "source": [
    "<div class=\"alert alert-danger\" role=\"alert\">\n",
    "    <span style=\"font-size:20px\">&#9888;</span> <span style=\"font-size:16px\">This is a read-only notebook! If you want to make and save changes, save a copy by clicking on <b>File</b> &#8594; <b>Save a copy</b>. If this is already a copy, you can delete this cell.</span>\n",
    "</div>"
   ]
  },
  {
   "cell_type": "markdown",
   "id": "ad57f6bc-cc84-4f70-b965-a9253f453191",
   "metadata": {},
   "source": [
    "# Basic NLP Preprocessing\n",
    "\n",
    "This notebook shows some basic preprocessing commonly used for Natural Language Processing (NLP). "
   ]
  },
  {
   "cell_type": "code",
   "execution_count": 2,
   "id": "d64ab685-9324-4271-a79c-250452d88507",
   "metadata": {},
   "outputs": [],
   "source": [
    "# Add path of the folder 'resources' to the path from which we can import modules  \n",
    "import sys\n",
    "sys.path.append('../utilities')"
   ]
  },
  {
   "cell_type": "code",
   "execution_count": 3,
   "id": "a41a261b-e0f1-4c99-a13a-5be700dee0ef",
   "metadata": {},
   "outputs": [],
   "source": [
    "import pandas as pd\n",
    "from nlp import TextPreparation\n",
    "\n",
    "pd.set_option('display.max_colwidth', 500)"
   ]
  },
  {
   "cell_type": "code",
   "execution_count": 6,
   "id": "c3e32621-76e3-4d25-a356-3571032df837",
   "metadata": {},
   "outputs": [
    {
     "data": {
      "text/html": [
       "<div>\n",
       "<style scoped>\n",
       "    .dataframe tbody tr th:only-of-type {\n",
       "        vertical-align: middle;\n",
       "    }\n",
       "\n",
       "    .dataframe tbody tr th {\n",
       "        vertical-align: top;\n",
       "    }\n",
       "\n",
       "    .dataframe thead th {\n",
       "        text-align: right;\n",
       "    }\n",
       "</style>\n",
       "<table border=\"1\" class=\"dataframe\">\n",
       "  <thead>\n",
       "    <tr style=\"text-align: right;\">\n",
       "      <th></th>\n",
       "      <th>Row</th>\n",
       "      <th>ConsumerComplaintNarrative</th>\n",
       "    </tr>\n",
       "  </thead>\n",
       "  <tbody>\n",
       "    <tr>\n",
       "      <th>0</th>\n",
       "      <td>0</td>\n",
       "      <td>I have several items on my credit report that are not mine. I noticed it because I recently applied for a credit card and I wasnt approved so it prompts me to check my credit report. These items listed are not mine and need to be removed. USDDEPTOFEDXXXX XXXX {$1400.00}</td>\n",
       "    </tr>\n",
       "    <tr>\n",
       "      <th>1</th>\n",
       "      <td>1</td>\n",
       "      <td>I have called on several occasions to request my student loans be updated to reflect correct payments and Equifax continues to reflect inaccurate reporting this making them incorrect. The payment history is not reflected corrected and I am not sure why. All on-time payments have been removed, dropping my payment history from 97 % to currently 30 %. When I contacted the original creditor ( XXXX  ), I was told that there was only 3 late payments reflected on my account and I haven't been late ...</td>\n",
       "    </tr>\n",
       "    <tr>\n",
       "      <th>2</th>\n",
       "      <td>2</td>\n",
       "      <td>The following accounts both opened and closed are not mines, my identity has been compromised and it has not only affected me emotionally but my credit file as well. I'm demanding the immediate removal of the following unauthorized and unknown accounts.   1. XXXX XXXX XXXX  {$1700.00} 2. XXXX XXXX XXXX XXXX 3. XXXX XXXX XXXX  4 . XXXX XXXX 5. XXXX XXXX XXXX XXXXXXXX XXXX 6. XXXX XXXX XXXX 7. XXXX  XXXX XXXX XXXX 8.  XXXX XXXX XXXX</td>\n",
       "    </tr>\n",
       "    <tr>\n",
       "      <th>3</th>\n",
       "      <td>3</td>\n",
       "      <td>This is not a personal problem that affects just me. This is affecting every consumer in our country. You have to fight &amp; make several phone calls to get to your free annual credit report or even if you're denied credit. All 3 of these agencies direct you totally to their \" pay for sites ''. This is a scam &amp; is  directed totally to people of low income or seniors. People with high incomes &amp; other means of income do not rely on these so called credit companies. I also realize my complaint wil...</td>\n",
       "    </tr>\n",
       "    <tr>\n",
       "      <th>4</th>\n",
       "      <td>4</td>\n",
       "      <td>XXXX  and TransUnion have been reporting these fraudulent accounts under my name XXXX XXXX is fraudulent on my credit Account # XXXX XXXX XXXX XXXX is fraudulent on my credit Account # XXXX XXXX XXXX XXXX is fraudulent on my credit Account # XXXX XXXX XXXX is fraudulent on my credit Account # XXXX  XXXX   XXXX XXXX  XXXX is fraudulent on my credit Account # XXXX XXXX XXXX XXXX is fraudulent on my credit Account # XXXX I didnt benefit, apply for, and authorize these accounts.</td>\n",
       "    </tr>\n",
       "  </tbody>\n",
       "</table>\n",
       "</div>"
      ],
      "text/plain": [
       "   Row  \\\n",
       "0    0   \n",
       "1    1   \n",
       "2    2   \n",
       "3    3   \n",
       "4    4   \n",
       "\n",
       "                                                                                                                                                                                                                                                                                                                                                                                                                                                                                            ConsumerComplaintNarrative  \n",
       "0                                                                                                                                                                                                                                       I have several items on my credit report that are not mine. I noticed it because I recently applied for a credit card and I wasnt approved so it prompts me to check my credit report. These items listed are not mine and need to be removed. USDDEPTOFEDXXXX XXXX {$1400.00}  \n",
       "1  I have called on several occasions to request my student loans be updated to reflect correct payments and Equifax continues to reflect inaccurate reporting this making them incorrect. The payment history is not reflected corrected and I am not sure why. All on-time payments have been removed, dropping my payment history from 97 % to currently 30 %. When I contacted the original creditor ( XXXX  ), I was told that there was only 3 late payments reflected on my account and I haven't been late ...  \n",
       "2                                                                   The following accounts both opened and closed are not mines, my identity has been compromised and it has not only affected me emotionally but my credit file as well. I'm demanding the immediate removal of the following unauthorized and unknown accounts.   1. XXXX XXXX XXXX  {$1700.00} 2. XXXX XXXX XXXX XXXX 3. XXXX XXXX XXXX  4 . XXXX XXXX 5. XXXX XXXX XXXX XXXXXXXX XXXX 6. XXXX XXXX XXXX 7. XXXX  XXXX XXXX XXXX 8.  XXXX XXXX XXXX  \n",
       "3  This is not a personal problem that affects just me. This is affecting every consumer in our country. You have to fight & make several phone calls to get to your free annual credit report or even if you're denied credit. All 3 of these agencies direct you totally to their \" pay for sites ''. This is a scam & is  directed totally to people of low income or seniors. People with high incomes & other means of income do not rely on these so called credit companies. I also realize my complaint wil...  \n",
       "4                      XXXX  and TransUnion have been reporting these fraudulent accounts under my name XXXX XXXX is fraudulent on my credit Account # XXXX XXXX XXXX XXXX is fraudulent on my credit Account # XXXX XXXX XXXX XXXX is fraudulent on my credit Account # XXXX XXXX XXXX is fraudulent on my credit Account # XXXX  XXXX   XXXX XXXX  XXXX is fraudulent on my credit Account # XXXX XXXX XXXX XXXX is fraudulent on my credit Account # XXXX I didnt benefit, apply for, and authorize these accounts.  "
      ]
     },
     "execution_count": 6,
     "metadata": {},
     "output_type": "execute_result"
    }
   ],
   "source": [
    "raw_dataset = pd.read_csv(\"./sample_data/sample_data_2020.csv\", encoding=\"utf8\")\n",
    "\n",
    "# Add a row index\n",
    "text_field = \"ConsumerComplaintNarrative\"\n",
    "raw_dataset['Row'] = range(raw_dataset.shape[0])\n",
    "\n",
    "# Copy the dataset\n",
    "dataset = raw_dataset[[\"Row\", text_field]].copy()\n",
    "\n",
    "dataset.head()"
   ]
  },
  {
   "cell_type": "markdown",
   "id": "36564e78-742b-4785-a0bd-156792e7e431",
   "metadata": {},
   "source": [
    "## Preprocessing\n",
    "\n",
    "### Removing undesired characters.\n",
    "\n",
    "This processe makes the words much more standardized for the language models commonly used for NLP."
   ]
  },
  {
   "cell_type": "code",
   "execution_count": 7,
   "id": "6ebea614-dc38-485a-8280-b5d5d796e05c",
   "metadata": {},
   "outputs": [
    {
     "data": {
      "text/html": [
       "<div>\n",
       "<style scoped>\n",
       "    .dataframe tbody tr th:only-of-type {\n",
       "        vertical-align: middle;\n",
       "    }\n",
       "\n",
       "    .dataframe tbody tr th {\n",
       "        vertical-align: top;\n",
       "    }\n",
       "\n",
       "    .dataframe thead th {\n",
       "        text-align: right;\n",
       "    }\n",
       "</style>\n",
       "<table border=\"1\" class=\"dataframe\">\n",
       "  <thead>\n",
       "    <tr style=\"text-align: right;\">\n",
       "      <th></th>\n",
       "      <th>Row</th>\n",
       "      <th>ConsumerComplaintNarrative</th>\n",
       "    </tr>\n",
       "  </thead>\n",
       "  <tbody>\n",
       "    <tr>\n",
       "      <th>0</th>\n",
       "      <td>0</td>\n",
       "      <td>i have several items on my credit report that are not mine i noticed it because i recently applied for a credit card and i wasnt approved so it prompts me to check my credit report these items listed are not mine and need to be removed usddeptofed</td>\n",
       "    </tr>\n",
       "    <tr>\n",
       "      <th>1</th>\n",
       "      <td>1</td>\n",
       "      <td>i have called on several occasions to request my student loans be updated to reflect correct payments and equifax continues to reflect inaccurate reporting this making them incorrect the payment history is not reflected corrected and i am not sure why all ontime payments have been removed dropping my payment history from to currently when i contacted the original creditor i was told that there was only late payments reflected on my account and i have not been late in over a year however equi...</td>\n",
       "    </tr>\n",
       "    <tr>\n",
       "      <th>2</th>\n",
       "      <td>2</td>\n",
       "      <td>the following accounts both opened and closed are not mines my identity has been compromised and it has not only affected me emotionally but my credit file as well im demanding the immediate removal of the following unauthorized and unknown accounts</td>\n",
       "    </tr>\n",
       "    <tr>\n",
       "      <th>3</th>\n",
       "      <td>3</td>\n",
       "      <td>this is not a personal problem that affects just me this is affecting every consumer in our country you have to fight make several phone calls to get to your free annual credit report or even if you are denied credit all of these agencies direct you totally to their pay for sites this is a scam is directed totally to people of low income or seniors people with high incomes other means of income do not rely on these so called credit companies i also realize my complaint will be tossed never a...</td>\n",
       "    </tr>\n",
       "    <tr>\n",
       "      <th>4</th>\n",
       "      <td>4</td>\n",
       "      <td>and transunion have been reporting these fraudulent accounts under my name is fraudulent on my credit account is fraudulent on my credit account is fraudulent on my credit account is fraudulent on my credit account is fraudulent on my credit account is fraudulent on my credit account i didnt benefit apply for and authorize these accounts</td>\n",
       "    </tr>\n",
       "  </tbody>\n",
       "</table>\n",
       "</div>"
      ],
      "text/plain": [
       "   Row  \\\n",
       "0    0   \n",
       "1    1   \n",
       "2    2   \n",
       "3    3   \n",
       "4    4   \n",
       "\n",
       "                                                                                                                                                                                                                                                                                                                                                                                                                                                                                            ConsumerComplaintNarrative  \n",
       "0                                                                                                                                                                                                                                                              i have several items on my credit report that are not mine i noticed it because i recently applied for a credit card and i wasnt approved so it prompts me to check my credit report these items listed are not mine and need to be removed usddeptofed  \n",
       "1  i have called on several occasions to request my student loans be updated to reflect correct payments and equifax continues to reflect inaccurate reporting this making them incorrect the payment history is not reflected corrected and i am not sure why all ontime payments have been removed dropping my payment history from to currently when i contacted the original creditor i was told that there was only late payments reflected on my account and i have not been late in over a year however equi...  \n",
       "2                                                                                                                                                                                                                                                            the following accounts both opened and closed are not mines my identity has been compromised and it has not only affected me emotionally but my credit file as well im demanding the immediate removal of the following unauthorized and unknown accounts  \n",
       "3  this is not a personal problem that affects just me this is affecting every consumer in our country you have to fight make several phone calls to get to your free annual credit report or even if you are denied credit all of these agencies direct you totally to their pay for sites this is a scam is directed totally to people of low income or seniors people with high incomes other means of income do not rely on these so called credit companies i also realize my complaint will be tossed never a...  \n",
       "4                                                                                                                                                                  and transunion have been reporting these fraudulent accounts under my name is fraudulent on my credit account is fraudulent on my credit account is fraudulent on my credit account is fraudulent on my credit account is fraudulent on my credit account is fraudulent on my credit account i didnt benefit apply for and authorize these accounts  "
      ]
     },
     "execution_count": 7,
     "metadata": {},
     "output_type": "execute_result"
    }
   ],
   "source": [
    "dataset[text_field] = TextPreparation.lowercase(dataset[text_field])\n",
    "dataset[text_field] = TextPreparation.expand_contractions(dataset[text_field])\n",
    "dataset[text_field] = TextPreparation.remove_special_chars(dataset[text_field])\n",
    "dataset[text_field] = TextPreparation.remove_numbers(dataset[text_field])\n",
    "\n",
    "dataset.head()"
   ]
  },
  {
   "cell_type": "markdown",
   "id": "a407faf8-e9bc-4e50-842e-85e21565c541",
   "metadata": {},
   "source": [
    "### Removing stop words\n",
    "\n",
    "Stop words are a list of words that are insignificant to the text meaning, like \"the\", \"on\", \"a\", \"an\" and so on and so forth [[1]](https://en.wikipedia.org/wiki/Stop_word). By removing this words we reduce noise in the text interpretation.\n"
   ]
  },
  {
   "cell_type": "code",
   "execution_count": 11,
   "id": "36d274c9-80ea-46f9-b7c2-febe1e74e248",
   "metadata": {},
   "outputs": [
    {
     "data": {
      "text/html": [
       "<div>\n",
       "<style scoped>\n",
       "    .dataframe tbody tr th:only-of-type {\n",
       "        vertical-align: middle;\n",
       "    }\n",
       "\n",
       "    .dataframe tbody tr th {\n",
       "        vertical-align: top;\n",
       "    }\n",
       "\n",
       "    .dataframe thead th {\n",
       "        text-align: right;\n",
       "    }\n",
       "</style>\n",
       "<table border=\"1\" class=\"dataframe\">\n",
       "  <thead>\n",
       "    <tr style=\"text-align: right;\">\n",
       "      <th></th>\n",
       "      <th>Row</th>\n",
       "      <th>ConsumerComplaintNarrative</th>\n",
       "    </tr>\n",
       "  </thead>\n",
       "  <tbody>\n",
       "    <tr>\n",
       "      <th>0</th>\n",
       "      <td>0</td>\n",
       "      <td>sever item credit report mine notic recent appli credit card wasnt approv prompt check credit report item list mine need remov usddeptof</td>\n",
       "    </tr>\n",
       "    <tr>\n",
       "      <th>1</th>\n",
       "      <td>1</td>\n",
       "      <td>call sever occa request student loan updat reflect correct payment equifax continu reflect inaccur report make incorrect payment histori reflect correct sure ontim payment remov drop payment histori current contact origin creditor told late payment reflect account havent late year howev equifax continu reflect inform correct destroy charact limit abil obtain credit</td>\n",
       "    </tr>\n",
       "    <tr>\n",
       "      <th>2</th>\n",
       "      <td>2</td>\n",
       "      <td>follow account open close mine ident compromi affect emot credit file well im demand immedi remov follow unauthor unknown account</td>\n",
       "    </tr>\n",
       "    <tr>\n",
       "      <th>3</th>\n",
       "      <td>3</td>\n",
       "      <td>person problem affect affect everi consum countri fight make sever phone call get free annual credit report even  deni credit agenc direct total pay site scam direct total peopl low incom senior peopl high incom mean incom reli call credit compani also realiz complaint toss never address die</td>\n",
       "    </tr>\n",
       "    <tr>\n",
       "      <th>4</th>\n",
       "      <td>4</td>\n",
       "      <td>transunion report fraudul account name fraudul credit account fraudul credit account fraudul credit account fraudul credit account fraudul credit account fraudul credit account didnt benefit appli author account</td>\n",
       "    </tr>\n",
       "  </tbody>\n",
       "</table>\n",
       "</div>"
      ],
      "text/plain": [
       "   Row  \\\n",
       "0    0   \n",
       "1    1   \n",
       "2    2   \n",
       "3    3   \n",
       "4    4   \n",
       "\n",
       "                                                                                                                                                                                                                                                                                                                                                        ConsumerComplaintNarrative  \n",
       "0                                                                                                                                                                                                                                         sever item credit report mine notic recent appli credit card wasnt approv prompt check credit report item list mine need remov usddeptof  \n",
       "1  call sever occa request student loan updat reflect correct payment equifax continu reflect inaccur report make incorrect payment histori reflect correct sure ontim payment remov drop payment histori current contact origin creditor told late payment reflect account havent late year howev equifax continu reflect inform correct destroy charact limit abil obtain credit  \n",
       "2                                                                                                                                                                                                                                                follow account open close mine ident compromi affect emot credit file well im demand immedi remov follow unauthor unknown account  \n",
       "3                                                                             person problem affect affect everi consum countri fight make sever phone call get free annual credit report even  deni credit agenc direct total pay site scam direct total peopl low incom senior peopl high incom mean incom reli call credit compani also realiz complaint toss never address die  \n",
       "4                                                                                                                                                              transunion report fraudul account name fraudul credit account fraudul credit account fraudul credit account fraudul credit account fraudul credit account fraudul credit account didnt benefit appli author account  "
      ]
     },
     "execution_count": 11,
     "metadata": {},
     "output_type": "execute_result"
    }
   ],
   "source": [
    "dataset[text_field] = TextPreparation.remove_stopwords(dataset[text_field])\n",
    "\n",
    "dataset.head()"
   ]
  },
  {
   "cell_type": "code",
   "execution_count": 8,
   "id": "f80a5bb0-d862-4170-9cec-e84050102a8f",
   "metadata": {},
   "outputs": [
    {
     "data": {
      "text/plain": [
       "['_syncb',\n",
       " '|date',\n",
       " 'x',\n",
       " 'uber',\n",
       " '____________',\n",
       " '~',\n",
       " 'namber',\n",
       " 'yo',\n",
       " 'miss',\n",
       " 'fargo',\n",
       " 'umber',\n",
       " '_bank']"
      ]
     },
     "execution_count": 8,
     "metadata": {},
     "output_type": "execute_result"
    }
   ],
   "source": [
    "TextPreparation.get_proper_nouns(dataset[text_field])"
   ]
  },
  {
   "cell_type": "markdown",
   "id": "2c8ded32-d8b7-45b8-b419-b12e857d40ab",
   "metadata": {},
   "source": [
    "### Stem text\n",
    "Stemming, also called suffix stripping, is a technique used to reduce text dimensionality. Stemming is also a type of text normalization that enables you to standardize some words into specific expressions also called stems [[2]](https://towardsdatascience.com/stemming-corpus-with-nltk-7a6a6d02d3e5#:~:text=Stemming%2C%20also%20called%20suffix%20stripping,specific%20expressions%20also%20called%20stems.).\n"
   ]
  },
  {
   "cell_type": "code",
   "execution_count": 10,
   "id": "adf9eac5-7ce0-46b4-a96d-601d768a47ad",
   "metadata": {},
   "outputs": [
    {
     "data": {
      "text/html": [
       "<div>\n",
       "<style scoped>\n",
       "    .dataframe tbody tr th:only-of-type {\n",
       "        vertical-align: middle;\n",
       "    }\n",
       "\n",
       "    .dataframe tbody tr th {\n",
       "        vertical-align: top;\n",
       "    }\n",
       "\n",
       "    .dataframe thead th {\n",
       "        text-align: right;\n",
       "    }\n",
       "</style>\n",
       "<table border=\"1\" class=\"dataframe\">\n",
       "  <thead>\n",
       "    <tr style=\"text-align: right;\">\n",
       "      <th></th>\n",
       "      <th>Row</th>\n",
       "      <th>ConsumerComplaintNarrative</th>\n",
       "    </tr>\n",
       "  </thead>\n",
       "  <tbody>\n",
       "    <tr>\n",
       "      <th>0</th>\n",
       "      <td>0</td>\n",
       "      <td>sever item credit report mine notic recent appli credit card wasnt approv prompt check credit report item list mine need remov usddeptof</td>\n",
       "    </tr>\n",
       "    <tr>\n",
       "      <th>1</th>\n",
       "      <td>1</td>\n",
       "      <td>call sever occa request student loan updat reflect correct payment equifax continu reflect inaccur report make incorrect payment histori reflect correct sure ontim payment remov drop payment histori current contact origin creditor told late payment reflect account havent late year howev equifax continu reflect inform correct destroy charact limit abil obtain credit</td>\n",
       "    </tr>\n",
       "    <tr>\n",
       "      <th>2</th>\n",
       "      <td>2</td>\n",
       "      <td>follow account open close mine ident compromi affect emot credit file well im demand immedi remov follow unauthor unknown account</td>\n",
       "    </tr>\n",
       "    <tr>\n",
       "      <th>3</th>\n",
       "      <td>3</td>\n",
       "      <td>person problem affect affect everi consum countri fight make sever phone call get free annual credit report even your deni credit agenc direct total pay site scam direct total peopl low incom senior peopl high incom mean incom reli call credit compani also realiz complaint toss never address die</td>\n",
       "    </tr>\n",
       "    <tr>\n",
       "      <th>4</th>\n",
       "      <td>4</td>\n",
       "      <td>transunion report fraudul account name fraudul credit account fraudul credit account fraudul credit account fraudul credit account fraudul credit account fraudul credit account didnt benefit appli author account</td>\n",
       "    </tr>\n",
       "  </tbody>\n",
       "</table>\n",
       "</div>"
      ],
      "text/plain": [
       "   Row  \\\n",
       "0    0   \n",
       "1    1   \n",
       "2    2   \n",
       "3    3   \n",
       "4    4   \n",
       "\n",
       "                                                                                                                                                                                                                                                                                                                                                        ConsumerComplaintNarrative  \n",
       "0                                                                                                                                                                                                                                         sever item credit report mine notic recent appli credit card wasnt approv prompt check credit report item list mine need remov usddeptof  \n",
       "1  call sever occa request student loan updat reflect correct payment equifax continu reflect inaccur report make incorrect payment histori reflect correct sure ontim payment remov drop payment histori current contact origin creditor told late payment reflect account havent late year howev equifax continu reflect inform correct destroy charact limit abil obtain credit  \n",
       "2                                                                                                                                                                                                                                                follow account open close mine ident compromi affect emot credit file well im demand immedi remov follow unauthor unknown account  \n",
       "3                                                                         person problem affect affect everi consum countri fight make sever phone call get free annual credit report even your deni credit agenc direct total pay site scam direct total peopl low incom senior peopl high incom mean incom reli call credit compani also realiz complaint toss never address die  \n",
       "4                                                                                                                                                              transunion report fraudul account name fraudul credit account fraudul credit account fraudul credit account fraudul credit account fraudul credit account fraudul credit account didnt benefit appli author account  "
      ]
     },
     "execution_count": 10,
     "metadata": {},
     "output_type": "execute_result"
    }
   ],
   "source": [
    "dataset[text_field] = TextPreparation.stem_text(dataset[text_field])\n",
    "\n",
    "dataset.head()"
   ]
  },
  {
   "cell_type": "markdown",
   "id": "4f825333-07bd-4284-b573-fa7263b10dbb",
   "metadata": {},
   "source": [
    "### Save output"
   ]
  },
  {
   "cell_type": "code",
   "execution_count": 16,
   "id": "57b34dd6-e2f0-48b5-9c40-7c51ffbc0f34",
   "metadata": {},
   "outputs": [],
   "source": [
    "import os\n",
    "os.makedirs(\"sample_output\", exist_ok=True)\n",
    "\n",
    "dataset.to_csv(\"sample_output/pre_processed_sentences.csv\", index=False)"
   ]
  }
 ],
 "metadata": {
  "kernelspec": {
   "display_name": "Python 3",
   "language": "python",
   "name": "python3"
  },
  "language_info": {
   "codemirror_mode": {
    "name": "ipython",
    "version": 3
   },
   "file_extension": ".py",
   "mimetype": "text/x-python",
   "name": "python",
   "nbconvert_exporter": "python",
   "pygments_lexer": "ipython3",
   "version": "3.8.8"
  }
 },
 "nbformat": 4,
 "nbformat_minor": 5
}
